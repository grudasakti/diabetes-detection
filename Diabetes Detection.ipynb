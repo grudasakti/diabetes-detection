{
 "cells": [
  {
   "cell_type": "markdown",
   "metadata": {
    "id": "7dJ77Ytccmxj",
    "papermill": {
     "duration": 0.01665,
     "end_time": "2021-01-06T05:07:19.427145",
     "exception": false,
     "start_time": "2021-01-06T05:07:19.410495",
     "status": "completed"
    },
    "tags": []
   },
   "source": [
    "### About the Data Set"
   ]
  },
  {
   "cell_type": "raw",
   "metadata": {
    "id": "6DoZX20Acmxs",
    "papermill": {
     "duration": 0.013631,
     "end_time": "2021-01-06T05:07:19.454819",
     "exception": false,
     "start_time": "2021-01-06T05:07:19.441188",
     "status": "completed"
    },
    "tags": []
   },
   "source": [
    "This dataset is originally from the National Institute of Diabetes and Digestive and Kidney Diseases. The objective of the dataset is to diagnostically predict whether or not a patient has diabetes, based on certain diagnostic measurements included in the dataset. Several constraints were placed on the selection of these instances from a larger database. In particular, all patients here are females at least 21 years old of Pima Indian heritage.\n",
    "\n",
    "The datasets consists of several medical predictor variables and one target variable, Outcome. Predictor variables includes the number of pregnancies the patient has had, their BMI, insulin level, age, and so on.\n",
    "\n",
    "We build a machine learning model to accurately predict whether or not the patients in the dataset have diabetes or not.\n",
    "\n",
    "Pregnancies: Number of times pregnant\n",
    "Glucose: Plasma glucose concentration a 2 hours in an oral glucose tolerance test\n",
    "BloodPressure: Diastolic blood pressure (mm Hg)\n",
    "SkinThickness: Triceps skin fold thickness (mm)\n",
    "Insulin: 2-Hour serum insulin (mu U/ml)\n",
    "BMI: Body mass index (weight in kg/(height in m)^2)\n",
    "DiabetesPedigreeFunction: Diabetes pedigree function\n",
    "Age: Age (years)\n",
    "Outcome: Class variable (0 or 1) 268 of 768 are 1, the others are 0"
   ]
  },
  {
   "cell_type": "code",
   "execution_count": 1,
   "metadata": {
    "execution": {
     "iopub.execute_input": "2021-01-06T05:07:19.485716Z",
     "iopub.status.busy": "2021-01-06T05:07:19.485018Z",
     "iopub.status.idle": "2021-01-06T05:07:20.723440Z",
     "shell.execute_reply": "2021-01-06T05:07:20.721942Z"
    },
    "executionInfo": {
     "elapsed": 962,
     "status": "ok",
     "timestamp": 1638372364331,
     "user": {
      "displayName": "GRUDA SAKTI KRIDA PRASTYA",
      "photoUrl": "https://lh3.googleusercontent.com/a-/AOh14GiwIHy1j4oUQdrJiN7Yen7gWuxJ2Kh74B2zBooo=s64",
      "userId": "09422560234454930346"
     },
     "user_tz": -420
    },
    "id": "2BydyowQcmxw",
    "papermill": {
     "duration": 1.254931,
     "end_time": "2021-01-06T05:07:20.723579",
     "exception": false,
     "start_time": "2021-01-06T05:07:19.468648",
     "status": "completed"
    },
    "tags": []
   },
   "outputs": [],
   "source": [
    "#Import data manipulation libraries\n",
    "import pandas as pd\n",
    "import numpy as np\n",
    "\n",
    "#Import the required Machine learning Libraries\n",
    "from sklearn.model_selection import train_test_split\n",
    "from sklearn.linear_model import LogisticRegression\n",
    "from sklearn import metrics\n",
    "\n",
    "#Import the visualization libraries\n",
    "import seaborn as sns\n",
    "import matplotlib.pyplot as plt\n",
    "\n",
    "from sklearn.metrics import classification_report"
   ]
  },
  {
   "cell_type": "code",
   "execution_count": 2,
   "metadata": {
    "colab": {
     "base_uri": "https://localhost:8080/",
     "height": 206
    },
    "execution": {
     "iopub.execute_input": "2021-01-06T05:07:20.763791Z",
     "iopub.status.busy": "2021-01-06T05:07:20.762992Z",
     "iopub.status.idle": "2021-01-06T05:07:20.799317Z",
     "shell.execute_reply": "2021-01-06T05:07:20.798664Z"
    },
    "executionInfo": {
     "elapsed": 373,
     "status": "ok",
     "timestamp": 1638372501532,
     "user": {
      "displayName": "GRUDA SAKTI KRIDA PRASTYA",
      "photoUrl": "https://lh3.googleusercontent.com/a-/AOh14GiwIHy1j4oUQdrJiN7Yen7gWuxJ2Kh74B2zBooo=s64",
      "userId": "09422560234454930346"
     },
     "user_tz": -420
    },
    "id": "47oEM2DRcmxz",
    "outputId": "5dbf3415-f29f-4ddc-e60a-44c3322ee672",
    "papermill": {
     "duration": 0.061611,
     "end_time": "2021-01-06T05:07:20.799440",
     "exception": false,
     "start_time": "2021-01-06T05:07:20.737829",
     "status": "completed"
    },
    "tags": []
   },
   "outputs": [
    {
     "data": {
      "text/html": [
       "<div>\n",
       "<style scoped>\n",
       "    .dataframe tbody tr th:only-of-type {\n",
       "        vertical-align: middle;\n",
       "    }\n",
       "\n",
       "    .dataframe tbody tr th {\n",
       "        vertical-align: top;\n",
       "    }\n",
       "\n",
       "    .dataframe thead th {\n",
       "        text-align: right;\n",
       "    }\n",
       "</style>\n",
       "<table border=\"1\" class=\"dataframe\">\n",
       "  <thead>\n",
       "    <tr style=\"text-align: right;\">\n",
       "      <th></th>\n",
       "      <th>Pregnancies</th>\n",
       "      <th>Glucose</th>\n",
       "      <th>BloodPressure</th>\n",
       "      <th>SkinThickness</th>\n",
       "      <th>Insulin</th>\n",
       "      <th>BMI</th>\n",
       "      <th>DiabetesPedigreeFunction</th>\n",
       "      <th>Age</th>\n",
       "      <th>Outcome</th>\n",
       "    </tr>\n",
       "  </thead>\n",
       "  <tbody>\n",
       "    <tr>\n",
       "      <th>0</th>\n",
       "      <td>6</td>\n",
       "      <td>148</td>\n",
       "      <td>72</td>\n",
       "      <td>35</td>\n",
       "      <td>0</td>\n",
       "      <td>33.6</td>\n",
       "      <td>0.627</td>\n",
       "      <td>50</td>\n",
       "      <td>1</td>\n",
       "    </tr>\n",
       "    <tr>\n",
       "      <th>1</th>\n",
       "      <td>1</td>\n",
       "      <td>85</td>\n",
       "      <td>66</td>\n",
       "      <td>29</td>\n",
       "      <td>0</td>\n",
       "      <td>26.6</td>\n",
       "      <td>0.351</td>\n",
       "      <td>31</td>\n",
       "      <td>0</td>\n",
       "    </tr>\n",
       "    <tr>\n",
       "      <th>2</th>\n",
       "      <td>8</td>\n",
       "      <td>183</td>\n",
       "      <td>64</td>\n",
       "      <td>0</td>\n",
       "      <td>0</td>\n",
       "      <td>23.3</td>\n",
       "      <td>0.672</td>\n",
       "      <td>32</td>\n",
       "      <td>1</td>\n",
       "    </tr>\n",
       "    <tr>\n",
       "      <th>3</th>\n",
       "      <td>1</td>\n",
       "      <td>89</td>\n",
       "      <td>66</td>\n",
       "      <td>23</td>\n",
       "      <td>94</td>\n",
       "      <td>28.1</td>\n",
       "      <td>0.167</td>\n",
       "      <td>21</td>\n",
       "      <td>0</td>\n",
       "    </tr>\n",
       "    <tr>\n",
       "      <th>4</th>\n",
       "      <td>0</td>\n",
       "      <td>137</td>\n",
       "      <td>40</td>\n",
       "      <td>35</td>\n",
       "      <td>168</td>\n",
       "      <td>43.1</td>\n",
       "      <td>2.288</td>\n",
       "      <td>33</td>\n",
       "      <td>1</td>\n",
       "    </tr>\n",
       "  </tbody>\n",
       "</table>\n",
       "</div>"
      ],
      "text/plain": [
       "   Pregnancies  Glucose  BloodPressure  ...  DiabetesPedigreeFunction  Age  Outcome\n",
       "0            6      148             72  ...                     0.627   50        1\n",
       "1            1       85             66  ...                     0.351   31        0\n",
       "2            8      183             64  ...                     0.672   32        1\n",
       "3            1       89             66  ...                     0.167   21        0\n",
       "4            0      137             40  ...                     2.288   33        1\n",
       "\n",
       "[5 rows x 9 columns]"
      ]
     },
     "execution_count": 2,
     "metadata": {},
     "output_type": "execute_result"
    }
   ],
   "source": [
    "#Read the dataset\n",
    "df = pd.read_csv('diabetes.csv')\n",
    "\n",
    "#Lets get the first 5 entries of the dataset\n",
    "df.head()"
   ]
  },
  {
   "cell_type": "code",
   "execution_count": 3,
   "metadata": {
    "colab": {
     "base_uri": "https://localhost:8080/"
    },
    "execution": {
     "iopub.execute_input": "2021-01-06T05:07:20.834640Z",
     "iopub.status.busy": "2021-01-06T05:07:20.833954Z",
     "iopub.status.idle": "2021-01-06T05:07:20.837433Z",
     "shell.execute_reply": "2021-01-06T05:07:20.837989Z"
    },
    "executionInfo": {
     "elapsed": 353,
     "status": "ok",
     "timestamp": 1638372560291,
     "user": {
      "displayName": "GRUDA SAKTI KRIDA PRASTYA",
      "photoUrl": "https://lh3.googleusercontent.com/a-/AOh14GiwIHy1j4oUQdrJiN7Yen7gWuxJ2Kh74B2zBooo=s64",
      "userId": "09422560234454930346"
     },
     "user_tz": -420
    },
    "id": "rBgOoLZ6cmx2",
    "outputId": "148ba8ee-72d8-48d5-9dae-856fa5792848",
    "papermill": {
     "duration": 0.023781,
     "end_time": "2021-01-06T05:07:20.838156",
     "exception": false,
     "start_time": "2021-01-06T05:07:20.814375",
     "status": "completed"
    },
    "tags": []
   },
   "outputs": [
    {
     "data": {
      "text/plain": [
       "(768, 9)"
      ]
     },
     "execution_count": 3,
     "metadata": {},
     "output_type": "execute_result"
    }
   ],
   "source": [
    "df.shape\n",
    "#The dataset contains 768 entries with t 9 variables, 8 of the variables are independent features and 1 of the variable is dependent feature (Outcome)"
   ]
  },
  {
   "cell_type": "code",
   "execution_count": 4,
   "metadata": {
    "colab": {
     "base_uri": "https://localhost:8080/",
     "height": 649
    },
    "executionInfo": {
     "elapsed": 972,
     "status": "ok",
     "timestamp": 1638372655724,
     "user": {
      "displayName": "GRUDA SAKTI KRIDA PRASTYA",
      "photoUrl": "https://lh3.googleusercontent.com/a-/AOh14GiwIHy1j4oUQdrJiN7Yen7gWuxJ2Kh74B2zBooo=s64",
      "userId": "09422560234454930346"
     },
     "user_tz": -420
    },
    "id": "wnRjieF_3kK2",
    "outputId": "037e0e0a-9be5-484a-a191-787ee5a59e59"
   },
   "outputs": [
    {
     "data": {
      "image/png": "[encoded data removed]",
      "text/plain": [
       "<Figure size 792x792 with 1 Axes>"
      ]
     },
     "metadata": {
      "needs_background": "light"
     },
     "output_type": "display_data"
    }
   ],
   "source": [
    "def plot_corr(df, size=11):\n",
    "    corr = df.corr() # data frame corelation\n",
    "    fig, ax = plt.subplots(figsize=(size,size))\n",
    "    ax.matshow(corr)\n",
    "    plt.xticks(range(len(corr.columns)), corr.columns)\n",
    "    plt.yticks(range(len(corr.columns)), corr.columns)\n",
    "\n",
    "plot_corr(df)"
   ]
  },
  {
   "cell_type": "code",
   "execution_count": 5,
   "metadata": {
    "colab": {
     "base_uri": "https://localhost:8080/",
     "height": 332
    },
    "executionInfo": {
     "elapsed": 383,
     "status": "ok",
     "timestamp": 1638372714425,
     "user": {
      "displayName": "GRUDA SAKTI KRIDA PRASTYA",
      "photoUrl": "https://lh3.googleusercontent.com/a-/AOh14GiwIHy1j4oUQdrJiN7Yen7gWuxJ2Kh74B2zBooo=s64",
      "userId": "09422560234454930346"
     },
     "user_tz": -420
    },
    "id": "G5M1BLVZ4urr",
    "outputId": "e677b123-96d7-41df-d08b-866a3a4ee4e0"
   },
   "outputs": [
    {
     "data": {
      "text/html": [
       "<div>\n",
       "<style scoped>\n",
       "    .dataframe tbody tr th:only-of-type {\n",
       "        vertical-align: middle;\n",
       "    }\n",
       "\n",
       "    .dataframe tbody tr th {\n",
       "        vertical-align: top;\n",
       "    }\n",
       "\n",
       "    .dataframe thead th {\n",
       "        text-align: right;\n",
       "    }\n",
       "</style>\n",
       "<table border=\"1\" class=\"dataframe\">\n",
       "  <thead>\n",
       "    <tr style=\"text-align: right;\">\n",
       "      <th></th>\n",
       "      <th>Pregnancies</th>\n",
       "      <th>Glucose</th>\n",
       "      <th>BloodPressure</th>\n",
       "      <th>SkinThickness</th>\n",
       "      <th>Insulin</th>\n",
       "      <th>BMI</th>\n",
       "      <th>DiabetesPedigreeFunction</th>\n",
       "      <th>Age</th>\n",
       "      <th>Outcome</th>\n",
       "    </tr>\n",
       "  </thead>\n",
       "  <tbody>\n",
       "    <tr>\n",
       "      <th>Pregnancies</th>\n",
       "      <td>1.000000</td>\n",
       "      <td>0.129459</td>\n",
       "      <td>0.141282</td>\n",
       "      <td>-0.081672</td>\n",
       "      <td>-0.073535</td>\n",
       "      <td>0.017683</td>\n",
       "      <td>-0.033523</td>\n",
       "      <td>0.544341</td>\n",
       "      <td>0.221898</td>\n",
       "    </tr>\n",
       "    <tr>\n",
       "      <th>Glucose</th>\n",
       "      <td>0.129459</td>\n",
       "      <td>1.000000</td>\n",
       "      <td>0.152590</td>\n",
       "      <td>0.057328</td>\n",
       "      <td>0.331357</td>\n",
       "      <td>0.221071</td>\n",
       "      <td>0.137337</td>\n",
       "      <td>0.263514</td>\n",
       "      <td>0.466581</td>\n",
       "    </tr>\n",
       "    <tr>\n",
       "      <th>BloodPressure</th>\n",
       "      <td>0.141282</td>\n",
       "      <td>0.152590</td>\n",
       "      <td>1.000000</td>\n",
       "      <td>0.207371</td>\n",
       "      <td>0.088933</td>\n",
       "      <td>0.281805</td>\n",
       "      <td>0.041265</td>\n",
       "      <td>0.239528</td>\n",
       "      <td>0.065068</td>\n",
       "    </tr>\n",
       "    <tr>\n",
       "      <th>SkinThickness</th>\n",
       "      <td>-0.081672</td>\n",
       "      <td>0.057328</td>\n",
       "      <td>0.207371</td>\n",
       "      <td>1.000000</td>\n",
       "      <td>0.436783</td>\n",
       "      <td>0.392573</td>\n",
       "      <td>0.183928</td>\n",
       "      <td>-0.113970</td>\n",
       "      <td>0.074752</td>\n",
       "    </tr>\n",
       "    <tr>\n",
       "      <th>Insulin</th>\n",
       "      <td>-0.073535</td>\n",
       "      <td>0.331357</td>\n",
       "      <td>0.088933</td>\n",
       "      <td>0.436783</td>\n",
       "      <td>1.000000</td>\n",
       "      <td>0.197859</td>\n",
       "      <td>0.185071</td>\n",
       "      <td>-0.042163</td>\n",
       "      <td>0.130548</td>\n",
       "    </tr>\n",
       "    <tr>\n",
       "      <th>BMI</th>\n",
       "      <td>0.017683</td>\n",
       "      <td>0.221071</td>\n",
       "      <td>0.281805</td>\n",
       "      <td>0.392573</td>\n",
       "      <td>0.197859</td>\n",
       "      <td>1.000000</td>\n",
       "      <td>0.140647</td>\n",
       "      <td>0.036242</td>\n",
       "      <td>0.292695</td>\n",
       "    </tr>\n",
       "    <tr>\n",
       "      <th>DiabetesPedigreeFunction</th>\n",
       "      <td>-0.033523</td>\n",
       "      <td>0.137337</td>\n",
       "      <td>0.041265</td>\n",
       "      <td>0.183928</td>\n",
       "      <td>0.185071</td>\n",
       "      <td>0.140647</td>\n",
       "      <td>1.000000</td>\n",
       "      <td>0.033561</td>\n",
       "      <td>0.173844</td>\n",
       "    </tr>\n",
       "    <tr>\n",
       "      <th>Age</th>\n",
       "      <td>0.544341</td>\n",
       "      <td>0.263514</td>\n",
       "      <td>0.239528</td>\n",
       "      <td>-0.113970</td>\n",
       "      <td>-0.042163</td>\n",
       "      <td>0.036242</td>\n",
       "      <td>0.033561</td>\n",
       "      <td>1.000000</td>\n",
       "      <td>0.238356</td>\n",
       "    </tr>\n",
       "    <tr>\n",
       "      <th>Outcome</th>\n",
       "      <td>0.221898</td>\n",
       "      <td>0.466581</td>\n",
       "      <td>0.065068</td>\n",
       "      <td>0.074752</td>\n",
       "      <td>0.130548</td>\n",
       "      <td>0.292695</td>\n",
       "      <td>0.173844</td>\n",
       "      <td>0.238356</td>\n",
       "      <td>1.000000</td>\n",
       "    </tr>\n",
       "  </tbody>\n",
       "</table>\n",
       "</div>"
      ],
      "text/plain": [
       "                          Pregnancies   Glucose  ...       Age   Outcome\n",
       "Pregnancies                  1.000000  0.129459  ...  0.544341  0.221898\n",
       "Glucose                      0.129459  1.000000  ...  0.263514  0.466581\n",
       "BloodPressure                0.141282  0.152590  ...  0.239528  0.065068\n",
       "SkinThickness               -0.081672  0.057328  ... -0.113970  0.074752\n",
       "Insulin                     -0.073535  0.331357  ... -0.042163  0.130548\n",
       "BMI                          0.017683  0.221071  ...  0.036242  0.292695\n",
       "DiabetesPedigreeFunction    -0.033523  0.137337  ...  0.033561  0.173844\n",
       "Age                          0.544341  0.263514  ...  1.000000  0.238356\n",
       "Outcome                      0.221898  0.466581  ...  0.238356  1.000000\n",
       "\n",
       "[9 rows x 9 columns]"
      ]
     },
     "execution_count": 5,
     "metadata": {},
     "output_type": "execute_result"
    }
   ],
   "source": [
    "df.corr()"
   ]
  },
  {
   "cell_type": "code",
   "execution_count": 6,
   "metadata": {
    "colab": {
     "base_uri": "https://localhost:8080/"
    },
    "execution": {
     "iopub.execute_input": "2021-01-06T05:07:20.872357Z",
     "iopub.status.busy": "2021-01-06T05:07:20.871670Z",
     "iopub.status.idle": "2021-01-06T05:07:20.876637Z",
     "shell.execute_reply": "2021-01-06T05:07:20.877210Z"
    },
    "executionInfo": {
     "elapsed": 388,
     "status": "ok",
     "timestamp": 1638372746809,
     "user": {
      "displayName": "GRUDA SAKTI KRIDA PRASTYA",
      "photoUrl": "https://lh3.googleusercontent.com/a-/AOh14GiwIHy1j4oUQdrJiN7Yen7gWuxJ2Kh74B2zBooo=s64",
      "userId": "09422560234454930346"
     },
     "user_tz": -420
    },
    "id": "i4NIpG_-cmx3",
    "outputId": "4c4d55c8-e950-4c6a-e3eb-fb8438c22ac9",
    "papermill": {
     "duration": 0.023708,
     "end_time": "2021-01-06T05:07:20.877354",
     "exception": false,
     "start_time": "2021-01-06T05:07:20.853646",
     "status": "completed"
    },
    "tags": []
   },
   "outputs": [
    {
     "data": {
      "text/plain": [
       "Index(['Pregnancies', 'Glucose', 'BloodPressure', 'SkinThickness', 'Insulin',\n",
       "       'BMI', 'DiabetesPedigreeFunction', 'Age', 'Outcome'],\n",
       "      dtype='object')"
      ]
     },
     "execution_count": 6,
     "metadata": {},
     "output_type": "execute_result"
    }
   ],
   "source": [
    "df.columns"
   ]
  },
  {
   "cell_type": "markdown",
   "metadata": {
    "id": "7zie3qVKcmx5",
    "papermill": {
     "duration": 0.015181,
     "end_time": "2021-01-06T05:07:20.908237",
     "exception": false,
     "start_time": "2021-01-06T05:07:20.893056",
     "status": "completed"
    },
    "tags": []
   },
   "source": [
    "### Selecting Features"
   ]
  },
  {
   "cell_type": "code",
   "execution_count": 7,
   "metadata": {
    "execution": {
     "iopub.execute_input": "2021-01-06T05:07:20.943457Z",
     "iopub.status.busy": "2021-01-06T05:07:20.942811Z",
     "iopub.status.idle": "2021-01-06T05:07:20.949186Z",
     "shell.execute_reply": "2021-01-06T05:07:20.949716Z"
    },
    "executionInfo": {
     "elapsed": 370,
     "status": "ok",
     "timestamp": 1638372774211,
     "user": {
      "displayName": "GRUDA SAKTI KRIDA PRASTYA",
      "photoUrl": "https://lh3.googleusercontent.com/a-/AOh14GiwIHy1j4oUQdrJiN7Yen7gWuxJ2Kh74B2zBooo=s64",
      "userId": "09422560234454930346"
     },
     "user_tz": -420
    },
    "id": "gYoBZff7cmx7",
    "papermill": {
     "duration": 0.025331,
     "end_time": "2021-01-06T05:07:20.949878",
     "exception": false,
     "start_time": "2021-01-06T05:07:20.924547",
     "status": "completed"
    },
    "tags": []
   },
   "outputs": [],
   "source": [
    "feature_cols = ['Pregnancies', 'Glucose', 'BloodPressure', 'SkinThickness', 'Insulin',\n",
    "       'BMI', 'DiabetesPedigreeFunction', 'Age',]\n",
    "\n",
    "X = df[feature_cols] # features for the prediction\n",
    "y = df.Outcome # target variable"
   ]
  },
  {
   "cell_type": "markdown",
   "metadata": {
    "id": "jBD3UJoBcmx9",
    "papermill": {
     "duration": 0.016495,
     "end_time": "2021-01-06T05:07:20.982108",
     "exception": false,
     "start_time": "2021-01-06T05:07:20.965613",
     "status": "completed"
    },
    "tags": []
   },
   "source": [
    "### Split into test and train"
   ]
  },
  {
   "cell_type": "code",
   "execution_count": 8,
   "metadata": {
    "execution": {
     "iopub.execute_input": "2021-01-06T05:07:21.016551Z",
     "iopub.status.busy": "2021-01-06T05:07:21.015948Z",
     "iopub.status.idle": "2021-01-06T05:07:21.025221Z",
     "shell.execute_reply": "2021-01-06T05:07:21.024550Z"
    },
    "executionInfo": {
     "elapsed": 381,
     "status": "ok",
     "timestamp": 1638372808260,
     "user": {
      "displayName": "GRUDA SAKTI KRIDA PRASTYA",
      "photoUrl": "https://lh3.googleusercontent.com/a-/AOh14GiwIHy1j4oUQdrJiN7Yen7gWuxJ2Kh74B2zBooo=s64",
      "userId": "09422560234454930346"
     },
     "user_tz": -420
    },
    "id": "SCInbdH5cmx_",
    "papermill": {
     "duration": 0.027517,
     "end_time": "2021-01-06T05:07:21.025336",
     "exception": false,
     "start_time": "2021-01-06T05:07:20.997819",
     "status": "completed"
    },
    "tags": []
   },
   "outputs": [],
   "source": [
    "X_train,X_test,y_train, y_test = train_test_split(X,y,test_size = 0.20, random_state = 0)"
   ]
  },
  {
   "cell_type": "code",
   "execution_count": 9,
   "metadata": {
    "colab": {
     "base_uri": "https://localhost:8080/",
     "height": 86
    },
    "execution": {
     "iopub.execute_input": "2021-01-06T05:07:21.063379Z",
     "iopub.status.busy": "2021-01-06T05:07:21.062355Z",
     "iopub.status.idle": "2021-01-06T05:07:21.073116Z",
     "shell.execute_reply": "2021-01-06T05:07:21.073633Z"
    },
    "executionInfo": {
     "elapsed": 440,
     "status": "ok",
     "timestamp": 1638372819477,
     "user": {
      "displayName": "GRUDA SAKTI KRIDA PRASTYA",
      "photoUrl": "https://lh3.googleusercontent.com/a-/AOh14GiwIHy1j4oUQdrJiN7Yen7gWuxJ2Kh74B2zBooo=s64",
      "userId": "09422560234454930346"
     },
     "user_tz": -420
    },
    "id": "AbgN83jIcmyA",
    "outputId": "e0dad371-aaf7-4542-a4f3-d005c8fe3704",
    "papermill": {
     "duration": 0.032524,
     "end_time": "2021-01-06T05:07:21.073784",
     "exception": false,
     "start_time": "2021-01-06T05:07:21.041260",
     "status": "completed"
    },
    "tags": []
   },
   "outputs": [
    {
     "data": {
      "text/plain": [
       "(614, 8)"
      ]
     },
     "metadata": {},
     "output_type": "display_data"
    },
    {
     "data": {
      "text/plain": [
       "(614,)"
      ]
     },
     "metadata": {},
     "output_type": "display_data"
    },
    {
     "data": {
      "text/plain": [
       "(154, 8)"
      ]
     },
     "metadata": {},
     "output_type": "display_data"
    },
    {
     "data": {
      "text/plain": [
       "(154,)"
      ]
     },
     "metadata": {},
     "output_type": "display_data"
    }
   ],
   "source": [
    "display(X_train.shape, y_train.shape, X_test.shape, y_test.shape)"
   ]
  },
  {
   "cell_type": "markdown",
   "metadata": {
    "id": "zF-ZSiVzcmyA",
    "papermill": {
     "duration": 0.017314,
     "end_time": "2021-01-06T05:07:21.110709",
     "exception": false,
     "start_time": "2021-01-06T05:07:21.093395",
     "status": "completed"
    },
    "tags": []
   },
   "source": [
    "### Train the model"
   ]
  },
  {
   "cell_type": "code",
   "execution_count": 10,
   "metadata": {
    "colab": {
     "base_uri": "https://localhost:8080/"
    },
    "execution": {
     "iopub.execute_input": "2021-01-06T05:07:21.149844Z",
     "iopub.status.busy": "2021-01-06T05:07:21.148829Z",
     "iopub.status.idle": "2021-01-06T05:07:21.231112Z",
     "shell.execute_reply": "2021-01-06T05:07:21.231831Z"
    },
    "executionInfo": {
     "elapsed": 427,
     "status": "ok",
     "timestamp": 1638372858746,
     "user": {
      "displayName": "GRUDA SAKTI KRIDA PRASTYA",
      "photoUrl": "https://lh3.googleusercontent.com/a-/AOh14GiwIHy1j4oUQdrJiN7Yen7gWuxJ2Kh74B2zBooo=s64",
      "userId": "09422560234454930346"
     },
     "user_tz": -420
    },
    "id": "I6FZnFBqcmyB",
    "outputId": "bd3eabc4-0945-4af5-8edb-f7506838a7c7",
    "papermill": {
     "duration": 0.103646,
     "end_time": "2021-01-06T05:07:21.232033",
     "exception": false,
     "start_time": "2021-01-06T05:07:21.128387",
     "status": "completed"
    },
    "tags": []
   },
   "outputs": [
    {
     "name": "stdout",
     "output_type": "stream",
     "text": [
      "model train score: 0.764\n"
     ]
    }
   ],
   "source": [
    "# Instantiate the model using the default parameters\n",
    "lr = LogisticRegression(solver='lbfgs', max_iter=1000)\n",
    "\n",
    "#fit the model with the data\n",
    "lr.fit(X_train, y_train)\n",
    "\n",
    "print(\"model train score: %.3f\" % lr.score(X_train, y_train))"
   ]
  },
  {
   "cell_type": "markdown",
   "metadata": {
    "id": "6vXm9gLhcmyC",
    "papermill": {
     "duration": 0.018404,
     "end_time": "2021-01-06T05:07:21.269932",
     "exception": false,
     "start_time": "2021-01-06T05:07:21.251528",
     "status": "completed"
    },
    "tags": []
   },
   "source": [
    "### Predict with Test Dataset"
   ]
  },
  {
   "cell_type": "code",
   "execution_count": 11,
   "metadata": {
    "execution": {
     "iopub.execute_input": "2021-01-06T05:07:21.316006Z",
     "iopub.status.busy": "2021-01-06T05:07:21.315291Z",
     "iopub.status.idle": "2021-01-06T05:07:21.318377Z",
     "shell.execute_reply": "2021-01-06T05:07:21.318903Z"
    },
    "executionInfo": {
     "elapsed": 382,
     "status": "ok",
     "timestamp": 1638372966637,
     "user": {
      "displayName": "GRUDA SAKTI KRIDA PRASTYA",
      "photoUrl": "https://lh3.googleusercontent.com/a-/AOh14GiwIHy1j4oUQdrJiN7Yen7gWuxJ2Kh74B2zBooo=s64",
      "userId": "09422560234454930346"
     },
     "user_tz": -420
    },
    "id": "-ORxkuZVcmyD",
    "papermill": {
     "duration": 0.030415,
     "end_time": "2021-01-06T05:07:21.319045",
     "exception": false,
     "start_time": "2021-01-06T05:07:21.288630",
     "status": "completed"
    },
    "tags": []
   },
   "outputs": [],
   "source": [
    "y_pred = lr.predict(X_test)"
   ]
  },
  {
   "cell_type": "code",
   "execution_count": 12,
   "metadata": {
    "colab": {
     "base_uri": "https://localhost:8080/"
    },
    "execution": {
     "iopub.execute_input": "2021-01-06T05:07:21.363692Z",
     "iopub.status.busy": "2021-01-06T05:07:21.362678Z",
     "iopub.status.idle": "2021-01-06T05:07:21.367097Z",
     "shell.execute_reply": "2021-01-06T05:07:21.367610Z"
    },
    "executionInfo": {
     "elapsed": 379,
     "status": "ok",
     "timestamp": 1638372982382,
     "user": {
      "displayName": "GRUDA SAKTI KRIDA PRASTYA",
      "photoUrl": "https://lh3.googleusercontent.com/a-/AOh14GiwIHy1j4oUQdrJiN7Yen7gWuxJ2Kh74B2zBooo=s64",
      "userId": "09422560234454930346"
     },
     "user_tz": -420
    },
    "id": "3iG7kBeWcmyD",
    "outputId": "fabe25e9-049e-446e-8d53-d4dfe57c9063",
    "papermill": {
     "duration": 0.029471,
     "end_time": "2021-01-06T05:07:21.367747",
     "exception": false,
     "start_time": "2021-01-06T05:07:21.338276",
     "status": "completed"
    },
    "tags": []
   },
   "outputs": [
    {
     "data": {
      "text/plain": [
       "array([1, 0, 0, 1, 0, 0, 1, 1, 0, 0, 1, 1, 0, 0, 0, 0, 1, 0, 0, 0, 1, 0,\n",
       "       0, 0, 0, 0, 0, 1, 0, 0, 0, 0, 0, 0, 0, 1, 0, 0, 0, 1, 0, 0, 0, 1,\n",
       "       1, 0, 0, 0, 0, 0, 0, 0, 1, 0, 0, 0, 0, 1, 0, 0, 1, 0, 0, 1, 1, 1,\n",
       "       1, 0, 0, 0, 0, 0, 0, 1, 1, 0, 0, 1, 0, 0, 0, 0, 0, 0, 0, 0, 0, 0,\n",
       "       1, 0, 0, 0, 0, 0, 1, 0, 0, 1, 1, 0, 0, 0, 0, 0, 1, 0, 0, 0, 0, 1,\n",
       "       0, 0, 1, 0, 1, 1, 0, 1, 0, 1, 0, 0, 0, 0, 0, 0, 0, 0, 0, 0, 0, 0,\n",
       "       0, 1, 0, 0, 0, 0, 1, 0, 0, 1, 0, 0, 0, 0, 0, 0, 0, 0, 0, 1, 0, 0])"
      ]
     },
     "execution_count": 12,
     "metadata": {},
     "output_type": "execute_result"
    }
   ],
   "source": [
    "y_pred"
   ]
  },
  {
   "cell_type": "markdown",
   "metadata": {
    "id": "yzK82e_-cmyE",
    "papermill": {
     "duration": 0.021744,
     "end_time": "2021-01-06T05:07:21.411268",
     "exception": false,
     "start_time": "2021-01-06T05:07:21.389524",
     "status": "completed"
    },
    "tags": []
   },
   "source": [
    "### Model evaluation"
   ]
  },
  {
   "cell_type": "markdown",
   "metadata": {
    "id": "SvVBKAjqcmyE",
    "papermill": {
     "duration": 0.022205,
     "end_time": "2021-01-06T05:07:21.456664",
     "exception": false,
     "start_time": "2021-01-06T05:07:21.434459",
     "status": "completed"
    },
    "tags": []
   },
   "source": [
    "#### Confusion matrix"
   ]
  },
  {
   "cell_type": "code",
   "execution_count": 13,
   "metadata": {
    "colab": {
     "base_uri": "https://localhost:8080/"
    },
    "execution": {
     "iopub.execute_input": "2021-01-06T05:07:21.506191Z",
     "iopub.status.busy": "2021-01-06T05:07:21.504990Z",
     "iopub.status.idle": "2021-01-06T05:07:21.512991Z",
     "shell.execute_reply": "2021-01-06T05:07:21.513566Z"
    },
    "executionInfo": {
     "elapsed": 390,
     "status": "ok",
     "timestamp": 1638373129139,
     "user": {
      "displayName": "GRUDA SAKTI KRIDA PRASTYA",
      "photoUrl": "https://lh3.googleusercontent.com/a-/AOh14GiwIHy1j4oUQdrJiN7Yen7gWuxJ2Kh74B2zBooo=s64",
      "userId": "09422560234454930346"
     },
     "user_tz": -420
    },
    "id": "srMvGrShcmyE",
    "outputId": "e2aea0a4-25b9-4d75-dd2f-43a7bd49e7e7",
    "papermill": {
     "duration": 0.034989,
     "end_time": "2021-01-06T05:07:21.513812",
     "exception": false,
     "start_time": "2021-01-06T05:07:21.478823",
     "status": "completed"
    },
    "tags": []
   },
   "outputs": [
    {
     "data": {
      "text/plain": [
       "array([[98,  9],\n",
       "       [18, 29]])"
      ]
     },
     "execution_count": 13,
     "metadata": {},
     "output_type": "execute_result"
    }
   ],
   "source": [
    "cnf_matrix = metrics.confusion_matrix(y_test, y_pred)\n",
    "cnf_matrix"
   ]
  },
  {
   "cell_type": "code",
   "execution_count": 14,
   "metadata": {
    "colab": {
     "base_uri": "https://localhost:8080/",
     "height": 296
    },
    "execution": {
     "iopub.execute_input": "2021-01-06T05:07:21.563417Z",
     "iopub.status.busy": "2021-01-06T05:07:21.562273Z",
     "iopub.status.idle": "2021-01-06T05:07:21.826039Z",
     "shell.execute_reply": "2021-01-06T05:07:21.825479Z"
    },
    "executionInfo": {
     "elapsed": 1199,
     "status": "ok",
     "timestamp": 1638373206702,
     "user": {
      "displayName": "GRUDA SAKTI KRIDA PRASTYA",
      "photoUrl": "https://lh3.googleusercontent.com/a-/AOh14GiwIHy1j4oUQdrJiN7Yen7gWuxJ2Kh74B2zBooo=s64",
      "userId": "09422560234454930346"
     },
     "user_tz": -420
    },
    "id": "bEy5K1dHcmyF",
    "outputId": "a284de1e-fa17-4ac5-a281-c07f9f2107e6",
    "papermill": {
     "duration": 0.288903,
     "end_time": "2021-01-06T05:07:21.826153",
     "exception": false,
     "start_time": "2021-01-06T05:07:21.537250",
     "status": "completed"
    },
    "tags": []
   },
   "outputs": [
    {
     "data": {
      "text/plain": [
       "<matplotlib.axes._subplots.AxesSubplot at 0x7f472940bf10>"
      ]
     },
     "execution_count": 14,
     "metadata": {},
     "output_type": "execute_result"
    },
    {
     "data": {
      "image/png": "[encoded data removed]",
      "text/plain": [
       "<Figure size 432x288 with 2 Axes>"
      ]
     },
     "metadata": {
      "needs_background": "light"
     },
     "output_type": "display_data"
    }
   ],
   "source": [
    "cnf_matrix = pd.crosstab(y_test, y_pred,rownames=['Actual'], colnames=['Predicted'])\n",
    "sns.heatmap(cnf_matrix, annot=True)"
   ]
  },
  {
   "cell_type": "raw",
   "metadata": {
    "id": "SLSMqpdPcmyG",
    "papermill": {
     "duration": 0.021011,
     "end_time": "2021-01-06T05:07:21.868494",
     "exception": false,
     "start_time": "2021-01-06T05:07:21.847483",
     "status": "completed"
    },
    "tags": []
   },
   "source": [
    "Diagonal values represent accurate predictions, while non-diagonal predictions are not accurate.\n",
    "\n",
    "In the output, 98 and 29 are actual predictions and 18 and 9 are innacurate predictions.\n",
    "\n",
    "TP = True Positives = 98\n",
    "TN = True Negatives = 29\n",
    "FP = False positives = 18\n",
    "FN = False negatives = 9"
   ]
  },
  {
   "cell_type": "markdown",
   "metadata": {
    "id": "HEzxhHYacmyG",
    "papermill": {
     "duration": 0.020572,
     "end_time": "2021-01-06T05:07:21.910206",
     "exception": false,
     "start_time": "2021-01-06T05:07:21.889634",
     "status": "completed"
    },
    "tags": []
   },
   "source": [
    "### Accuracy Score"
   ]
  },
  {
   "cell_type": "code",
   "execution_count": 15,
   "metadata": {
    "colab": {
     "base_uri": "https://localhost:8080/"
    },
    "execution": {
     "iopub.execute_input": "2021-01-06T05:07:21.960303Z",
     "iopub.status.busy": "2021-01-06T05:07:21.959302Z",
     "iopub.status.idle": "2021-01-06T05:07:21.963418Z",
     "shell.execute_reply": "2021-01-06T05:07:21.962772Z"
    },
    "executionInfo": {
     "elapsed": 445,
     "status": "ok",
     "timestamp": 1638373418638,
     "user": {
      "displayName": "GRUDA SAKTI KRIDA PRASTYA",
      "photoUrl": "https://lh3.googleusercontent.com/a-/AOh14GiwIHy1j4oUQdrJiN7Yen7gWuxJ2Kh74B2zBooo=s64",
      "userId": "09422560234454930346"
     },
     "user_tz": -420
    },
    "id": "lDt_SVCtcmyG",
    "outputId": "b791db6e-28e0-40c8-f1a4-7618643f51d1",
    "papermill": {
     "duration": 0.032401,
     "end_time": "2021-01-06T05:07:21.963543",
     "exception": false,
     "start_time": "2021-01-06T05:07:21.931142",
     "status": "completed"
    },
    "tags": []
   },
   "outputs": [
    {
     "name": "stdout",
     "output_type": "stream",
     "text": [
      "Accuracy score :  0.8246753246753247\n",
      "Accuracy in Percentage :  82 %\n"
     ]
    }
   ],
   "source": [
    "accuracyScore = metrics.accuracy_score(y_test,y_pred)\n",
    "print('Accuracy score : ', accuracyScore)\n",
    "print(\"Accuracy in Percentage : \", int(accuracyScore*100),'%')"
   ]
  },
  {
   "cell_type": "code",
   "execution_count": 16,
   "metadata": {
    "colab": {
     "base_uri": "https://localhost:8080/"
    },
    "executionInfo": {
     "elapsed": 552,
     "status": "ok",
     "timestamp": 1638373443167,
     "user": {
      "displayName": "GRUDA SAKTI KRIDA PRASTYA",
      "photoUrl": "https://lh3.googleusercontent.com/a-/AOh14GiwIHy1j4oUQdrJiN7Yen7gWuxJ2Kh74B2zBooo=s64",
      "userId": "09422560234454930346"
     },
     "user_tz": -420
    },
    "id": "J4HFNtIJcmyH",
    "outputId": "606c809b-058f-40d1-ab89-8f7dc186855b",
    "papermill": {
     "duration": 0.021114,
     "end_time": "2021-01-06T05:07:22.006044",
     "exception": false,
     "start_time": "2021-01-06T05:07:21.984930",
     "status": "completed"
    },
    "tags": []
   },
   "outputs": [
    {
     "name": "stdout",
     "output_type": "stream",
     "text": [
      "              precision    recall  f1-score   support\n",
      "\n",
      "           0       0.84      0.92      0.88       107\n",
      "           1       0.76      0.62      0.68        47\n",
      "\n",
      "    accuracy                           0.82       154\n",
      "   macro avg       0.80      0.77      0.78       154\n",
      "weighted avg       0.82      0.82      0.82       154\n",
      "\n"
     ]
    }
   ],
   "source": [
    "print(classification_report(y_test, y_pred))"
   ]
  }
 ],
 "metadata": {
  "colab": {
   "name": "Regresi Logistik Prediksi Diabetes ML A_672019250_672019252_672019227.ipynb",
   "provenance": [
    {
     "file_id": "17hTVQhbx-UWcJyQ19hoYDRVyeoroZgqT",
     "timestamp": 1637827162809
    }
   ]
  },
  "kernelspec": {
   "display_name": "Python 3",
   "language": "python",
   "name": "python3"
  },
  "language_info": {
   "codemirror_mode": {
    "name": "ipython",
    "version": 3
   },
   "file_extension": ".py",
   "mimetype": "text/x-python",
   "name": "python",
   "nbconvert_exporter": "python",
   "pygments_lexer": "ipython3",
   "version": "3.7.6"
  },
  "papermill": {
   "duration": 7.576944,
   "end_time": "2021-01-06T05:07:22.134931",
   "environment_variables": {},
   "exception": null,
   "input_path": "__notebook__.ipynb",
   "output_path": "__notebook__.ipynb",
   "parameters": {},
   "start_time": "2021-01-06T05:07:14.557987",
   "version": "2.1.0"
  }
 },
 "nbformat": 4,
 "nbformat_minor": 1
}
